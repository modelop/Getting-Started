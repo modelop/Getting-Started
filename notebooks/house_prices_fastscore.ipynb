{
 "cells": [
  {
   "cell_type": "code",
   "execution_count": 870,
   "metadata": {},
   "outputs": [],
   "source": [
    "from fastscoredeploy import ipmagic\n",
    "from fastscoredeploy.Schema import infer"
   ]
  },
  {
   "cell_type": "code",
   "execution_count": 871,
   "metadata": {},
   "outputs": [],
   "source": [
    "import pandas as pd\n",
    "import numpy as np\n",
    "import json"
   ]
  },
  {
   "cell_type": "code",
   "execution_count": 872,
   "metadata": {},
   "outputs": [
    {
     "name": "stdout",
     "output_type": "stream",
     "text": [
      "Schema loaded and bound to array_doubles variable\n"
     ]
    }
   ],
   "source": [
    "%%schema array_doubles\n",
    "{\n",
    "    \"type\": \"array\", \n",
    "    \"items\":\n",
    "        {\n",
    "            \"type\":\"array\", \n",
    "            \"items\":\"double\"\n",
    "        }\n",
    "}"
   ]
  },
  {
   "cell_type": "code",
   "execution_count": 873,
   "metadata": {},
   "outputs": [
    {
     "name": "stdout",
     "output_type": "stream",
     "text": [
      "Schema loaded and bound to three_rmses variable\n"
     ]
    }
   ],
   "source": [
    "%%schema three_rmses\n",
    "{\n",
    "    \"name\":\"three_rmses\",\n",
    "    \"type\":\"record\",\n",
    "    \"fields\":[\n",
    "        {\n",
    "            \"name\":\"Ridge\",\n",
    "            \"type\":\"double\"\n",
    "        },\n",
    "        {\n",
    "            \"name\":\"Lasso\",\n",
    "            \"type\":\"double\"\n",
    "        },\n",
    "        {\n",
    "            \"name\":\"XGBoost\",\n",
    "            \"type\":\"double\"\n",
    "        }\n",
    "    ]\n",
    "}"
   ]
  },
  {
   "cell_type": "code",
   "execution_count": 832,
   "metadata": {},
   "outputs": [],
   "source": [
    "data = pd.read_json('test_with_IDs.json', orient='records')\n",
    "data = data.rename(columns=\n",
    "                   {\"1stFlrSF\": \"firstFlrSF\", \n",
    "                    \"2ndFlrSF\": \"secondFlrSF\"})\n",
    "\n",
    "sample = {'LotFrontage': 70.0, 'LotArea': 11200, 'Alley': 'Grvl', 'LandContour': 'Lvl', 'BldgType': '1Fam', \n",
    "          'OverallQual': 5, 'OverallCond': 5, 'YearBuilt': 1965, 'YearRemodAdd': 1965, 'MasVnrArea': 0, \n",
    "          'BsmtQual': 'TA', 'BsmtExposure': 'No', 'BsmtFinType1': 'Rec', 'BsmtFinSF1': 906, 'BsmtFinSF2': 0, \n",
    "          'BsmtUnfSF': 134, 'TotalBsmtSF': 1040, 'CentralAir': 'Y', 'firstFlrSF': 1040, 'secondFlrSF': 0, \n",
    "          'GrLivArea': 1040, 'BsmtFullBath': 1, 'BsmtHalfBath': 0, 'FullBath': 1, 'HalfBath': 0, \n",
    "          'BedroomAbvGr': 3, 'KitchenAbvGr': 1, 'KitchenQual': 'TA', 'TotRmsAbvGrd': 5, 'Fireplaces': 0, \n",
    "          'FireplaceQu': 'Ex', 'GarageYrBlt': 1965, 'GarageFinish': 'Unf', 'GarageCars': 1, 'GarageArea': 384, \n",
    "          'PavedDrive': 'Y', 'WoodDeckSF': 0, 'OpenPorchSF': 0, 'EnclosedPorch': 0, 'ScreenPorch': 0, \n",
    "          'MiscVal': 0, 'MoSold': 2, 'YrSold': 2008, 'SalePrice': 129500, 'TotalSF': 2080, 'Total_porch_sf': 0, \n",
    "          'Total_Bathrooms': 2.0, 'has_pool': 0, 'has_garage': 1, 'has_bsmt': 1, 'has_fireplace': 0, 'Id': 11}\n",
    "\n",
    "schema_in = infer([sample])"
   ]
  },
  {
   "cell_type": "code",
   "execution_count": 833,
   "metadata": {},
   "outputs": [],
   "source": [
    "#data.iloc[60]"
   ]
  },
  {
   "cell_type": "code",
   "execution_count": 874,
   "metadata": {},
   "outputs": [
    {
     "name": "stdout",
     "output_type": "stream",
     "text": [
      "Schema loaded and bound to house_prices_labeled_in variable\n"
     ]
    }
   ],
   "source": [
    "%%schema house_prices_labeled_in\n",
    "{\n",
    "    \"type\": \"record\",\n",
    "    \"name\": \"Rec194635\",\n",
    "    \"fields\": [\n",
    "        {\n",
    "            \"name\": \"secondFlrSF\",\n",
    "            \"type\": \"int\"\n",
    "        },\n",
    "        {\n",
    "            \"name\": \"BsmtHalfBath\",\n",
    "            \"type\": \"int\"\n",
    "        },\n",
    "        {\n",
    "            \"name\": \"LotArea\",\n",
    "            \"type\": \"int\"\n",
    "        },\n",
    "        {\n",
    "            \"name\": \"GrLivArea\",\n",
    "            \"type\": \"int\"\n",
    "        },\n",
    "        {\n",
    "            \"name\": \"OpenPorchSF\",\n",
    "            \"type\": \"int\"\n",
    "        },\n",
    "        {\n",
    "            \"name\": \"FullBath\",\n",
    "            \"type\": \"int\"\n",
    "        },\n",
    "        {\n",
    "            \"name\": \"has_pool\",\n",
    "            \"type\": \"int\"\n",
    "        },\n",
    "        {\n",
    "            \"name\": \"BsmtQual\",\n",
    "            \"type\": \"string\"\n",
    "        },\n",
    "        {\n",
    "            \"name\": \"Fireplaces\",\n",
    "            \"type\": \"int\"\n",
    "        },\n",
    "        {\n",
    "            \"name\": \"KitchenAbvGr\",\n",
    "            \"type\": \"int\"\n",
    "        },\n",
    "        {\n",
    "            \"name\": \"YearRemodAdd\",\n",
    "            \"type\": \"int\"\n",
    "        },\n",
    "        {\n",
    "            \"name\": \"GarageCars\",\n",
    "            \"type\": \"int\"\n",
    "        },\n",
    "        {\n",
    "            \"name\": \"MoSold\",\n",
    "            \"type\": \"int\"\n",
    "        },\n",
    "        {\n",
    "            \"name\": \"FireplaceQu\",\n",
    "            \"type\": [\"null\",\"string\"]\n",
    "        },\n",
    "        {\n",
    "            \"name\": \"OverallCond\",\n",
    "            \"type\": \"int\"\n",
    "        },\n",
    "        {\n",
    "            \"name\": \"GarageYrBlt\",\n",
    "            \"type\": \"int\"\n",
    "        },\n",
    "        {\n",
    "            \"name\": \"GarageArea\",\n",
    "            \"type\": \"int\"\n",
    "        },\n",
    "        {\n",
    "            \"name\": \"Total_Bathrooms\",\n",
    "            \"type\": \"float\"\n",
    "        },\n",
    "        {\n",
    "            \"name\": \"LandContour\",\n",
    "            \"type\": \"string\"\n",
    "        },\n",
    "        {\n",
    "            \"name\": \"MasVnrArea\",\n",
    "            \"type\": \"int\"\n",
    "        },\n",
    "        {\n",
    "            \"name\": \"BsmtFinType1\",\n",
    "            \"type\": \"string\"\n",
    "        },\n",
    "        {\n",
    "            \"name\": \"BsmtExposure\",\n",
    "            \"type\": \"string\"\n",
    "        },\n",
    "        {\n",
    "            \"name\": \"ScreenPorch\",\n",
    "            \"type\": \"int\"\n",
    "        },\n",
    "        {\n",
    "            \"name\": \"PavedDrive\",\n",
    "            \"type\": \"string\"\n",
    "        },\n",
    "        {\n",
    "            \"name\": \"BsmtFinSF2\",\n",
    "            \"type\": \"int\"\n",
    "        },\n",
    "        {\n",
    "            \"name\": \"BsmtFullBath\",\n",
    "            \"type\": \"int\"\n",
    "        },\n",
    "        {\n",
    "            \"name\": \"YrSold\",\n",
    "            \"type\": \"int\"\n",
    "        },\n",
    "        {\n",
    "            \"name\": \"GarageFinish\",\n",
    "            \"type\": \"string\"\n",
    "        },\n",
    "        {\n",
    "            \"name\": \"firstFlrSF\",\n",
    "            \"type\": \"int\"\n",
    "        },\n",
    "        {\n",
    "            \"name\": \"MiscVal\",\n",
    "            \"type\": \"int\"\n",
    "        },\n",
    "        {\n",
    "            \"name\": \"EnclosedPorch\",\n",
    "            \"type\": \"int\"\n",
    "        },\n",
    "        {\n",
    "            \"name\": \"BsmtFinSF1\",\n",
    "            \"type\": \"int\"\n",
    "        },\n",
    "        {\n",
    "            \"name\": \"has_bsmt\",\n",
    "            \"type\": \"int\"\n",
    "        },\n",
    "        {\n",
    "            \"name\": \"BsmtUnfSF\",\n",
    "            \"type\": \"int\"\n",
    "        },\n",
    "        {\n",
    "            \"name\": \"BedroomAbvGr\",\n",
    "            \"type\": \"int\"\n",
    "        },\n",
    "        {\n",
    "            \"name\": \"SalePrice\",\n",
    "            \"type\": \"int\"\n",
    "        },\n",
    "        {\n",
    "            \"name\": \"TotalSF\",\n",
    "            \"type\": \"int\"\n",
    "        },\n",
    "        {\n",
    "            \"name\": \"Alley\",\n",
    "            \"type\": [\"null\",\"string\"]\n",
    "        },\n",
    "        {\n",
    "            \"name\": \"WoodDeckSF\",\n",
    "            \"type\": \"int\"\n",
    "        },\n",
    "        {\n",
    "            \"name\": \"BldgType\",\n",
    "            \"type\": \"string\"\n",
    "        },\n",
    "        {\n",
    "            \"name\": \"KitchenQual\",\n",
    "            \"type\": \"string\"\n",
    "        },\n",
    "        {\n",
    "            \"name\": \"OverallQual\",\n",
    "            \"type\": \"int\"\n",
    "        },\n",
    "        {\n",
    "            \"name\": \"Id\",\n",
    "            \"type\": \"int\"\n",
    "        },\n",
    "        {\n",
    "            \"name\": \"has_fireplace\",\n",
    "            \"type\": \"int\"\n",
    "        },\n",
    "        {\n",
    "            \"name\": \"YearBuilt\",\n",
    "            \"type\": \"int\"\n",
    "        },\n",
    "        {\n",
    "            \"name\": \"has_garage\",\n",
    "            \"type\": \"int\"\n",
    "        },\n",
    "        {\n",
    "            \"name\": \"TotalBsmtSF\",\n",
    "            \"type\": \"int\"\n",
    "        },\n",
    "        {\n",
    "            \"name\": \"CentralAir\",\n",
    "            \"type\": \"string\"\n",
    "        },\n",
    "        {\n",
    "            \"name\": \"TotRmsAbvGrd\",\n",
    "            \"type\": \"int\"\n",
    "        },\n",
    "        {\n",
    "            \"name\": \"Total_porch_sf\",\n",
    "            \"type\": \"int\"\n",
    "        },\n",
    "        {\n",
    "            \"name\": \"LotFrontage\",\n",
    "            \"type\": \"float\"\n",
    "        },\n",
    "        {\n",
    "            \"name\": \"HalfBath\",\n",
    "            \"type\": \"int\"\n",
    "        }\n",
    "    ]\n",
    "}"
   ]
  },
  {
   "cell_type": "code",
   "execution_count": 835,
   "metadata": {},
   "outputs": [
    {
     "name": "stdout",
     "output_type": "stream",
     "text": [
      "Model loaded and bound to house_prices_champion_challenger variable.\n"
     ]
    }
   ],
   "source": [
    "%%model house_prices_champion_challenger\n",
    "\n",
    "#fastscore.action: unused\n",
    "#fastscore.schema.0: house_prices_labeled_in\n",
    "#fastscore.schema.1: array_doubles\n",
    "\n",
    "from fastscore.io import Slot\n",
    "\n",
    "import pandas as pd\n",
    "import pickle\n",
    "import numpy as np\n",
    "from sklearn.preprocessing import RobustScaler\n",
    "from sklearn.model_selection import KFold, cross_val_score\n",
    "from sklearn.linear_model import LassoCV, RidgeCV\n",
    "from sklearn.pipeline import make_pipeline\n",
    "from sklearn.metrics import mean_squared_error\n",
    "import xgboost\n",
    "\n",
    "slot0 = Slot(0)  # Input data will be read from Slot(0)\n",
    "slot1 = Slot(1)  # Predictions/scores will be pushed to Slot(1)\n",
    "\n",
    "data = slot0.read(format=\"pandas\")  # data will be read as a pndas DataFrame\n",
    "\n",
    "if 'SalePrice' in data.columns:  # Checking to see if data is labeled\n",
    "    labeled=True\n",
    "    actuals = data['SalePrice']  # Saving actuals (Sale prices)\n",
    "    data.drop('SalePrice', axis=1, inplace=True)\n",
    "else:\n",
    "    labeled=False\n",
    "\n",
    "# Renaming columns with names starting with numbers\n",
    "data = data.rename(columns=\n",
    "                   {\"1stFlrSF\": \"firstFlrSF\", \n",
    "                    \"2ndFlrSF\": \"secondFlrSF\"})\n",
    "\n",
    "data_ID = data['Id']  # Saving the Id column\n",
    "data.drop(\"Id\", axis=1, inplace=True)\n",
    "\n",
    "# Matching dummy variables from training set to current dummy variables\n",
    "train_encoded_columns = pickle.load(open(\"train_encoded_columns.pickle\", \"rb\"))\n",
    "missing_cols = set(train_encoded_columns) - set(data.columns)\n",
    "for c in missing_cols:\n",
    "    data[c] = 0\n",
    "\n",
    "# Matching order of variables to those used in training\n",
    "data = data[train_encoded_columns]\n",
    "\n",
    "# Loading trained models from pickle files\n",
    "ridge_model = pickle.load(open(\"ridge_model.pickle\", \"rb\"))\n",
    "lasso_model = pickle.load(open(\"lasso_model.pickle\", \"rb\"))\n",
    "xgboost_model = pickle.load(open(\"xgboost_model.pickle\", \"rb\"))\n",
    "\n",
    "models = {'Ridge': ridge_model,\n",
    "          'Lasso': lasso_model,\n",
    "          'XGBoost': xgboost_model}\n",
    "\n",
    "log_predictions = {}  # Model was trained on log(SalePrice)\n",
    "RMSEs = {}  # Root mean square error\n",
    "\n",
    "for name, model in models.items():\n",
    "    log_predictions[name] = model.predict(data)  # Computing predictions for each model and each record\n",
    "\n",
    "adjusted_predictions = {}  \n",
    "for name, model in models.items():\n",
    "    # actual predictions = exp(log_predictions)\n",
    "    adjusted_predictions[name] = np.expm1(log_predictions[name])\n",
    "    if labeled:\n",
    "        #  Computing RMSE if actual data is available\n",
    "        RMSEs[name] = np.sqrt(mean_squared_error(adjusted_predictions[name], actuals))\n",
    "\n",
    "# Use below with schema double\n",
    "# out = pd.Series(adjusted_predictions['Ridge']) \n",
    "\n",
    "# Use below with schema array_doubles\n",
    "out = np.round(np.array(pd.DataFrame(adjusted_predictions)),2).tolist() \n",
    "\n",
    "# Use below with schema three_RMSEs\n",
    "#out = RMSEs\n",
    "slot1.write(out)"
   ]
  },
  {
   "cell_type": "code",
   "execution_count": 875,
   "metadata": {},
   "outputs": [
    {
     "name": "stdout",
     "output_type": "stream",
     "text": [
      "Model loaded and bound to house_prices_champion_challenger_callback variable.\n"
     ]
    }
   ],
   "source": [
    "%%model house_prices_champion_challenger_callback\n",
    "\n",
    "#fastscore.schema.0: house_prices_labeled_in\n",
    "#fastscore.schema.1: array_doubles\n",
    "#fastscore.recordsets.1: false\n",
    "\n",
    "import pandas as pd\n",
    "import pickle\n",
    "import numpy as np\n",
    "from sklearn.preprocessing import RobustScaler\n",
    "from sklearn.model_selection import KFold\n",
    "from sklearn.linear_model import LassoCV, RidgeCV\n",
    "from sklearn.pipeline import make_pipeline\n",
    "from sklearn.metrics import mean_squared_error\n",
    "import xgboost\n",
    "\n",
    "def begin():\n",
    "    global xgboost_model, lasso_model, ridge_model, train_encoded_columns\n",
    "    ridge_model = pickle.load(open(\"ridge_model.pickle\", \"rb\"))\n",
    "    lasso_model = pickle.load(open(\"lasso_model.pickle\", \"rb\"))\n",
    "    xgboost_model = pickle.load(open(\"xgboost_model.pickle\", \"rb\"))\n",
    "   \n",
    "    train_encoded_columns = pickle.load(open(\"train_encoded_columns.pickle\", \"rb\"))\n",
    "\n",
    "def action(data):\n",
    "    data = pd.DataFrame(data)\n",
    "    print(\"\\ntype(data): \", type(data),\"\\n\")\n",
    "    print(\"\\n\",data.head(),\"\\n\")\n",
    "\n",
    "    if 'SalePrice' in data.columns:  # Checking to see if data is labeled\n",
    "        labeled=True\n",
    "        actuals = data['SalePrice']  # Saving actuals (Sale prices)\n",
    "        data.drop('SalePrice', axis=1, inplace=True)\n",
    "    else:\n",
    "        labeled=False\n",
    "\n",
    "    print(\"\\n\",labeled,\"\\n\")\n",
    "    \n",
    "    missing_cols = set(train_encoded_columns) - set(data.columns)\n",
    "    for c in missing_cols:\n",
    "        data[c] = 0\n",
    "\n",
    "    data = data[train_encoded_columns]\n",
    "\n",
    "    models = {'Ridge': ridge_model,\n",
    "              'Lasso': lasso_model,\n",
    "              'XGBoost': xgboost_model}\n",
    "\n",
    "    log_predictions = {}  # Model was trained on log(SalePrice)\n",
    "    RMSEs = {}  # Root mean square error\n",
    "\n",
    "    for name, model in models.items():\n",
    "        log_predictions[name] = model.predict(data)  # Computing predictions for each model and each record\n",
    "\n",
    "    adjusted_predictions = {}  \n",
    "    for name, model in models.items():\n",
    "        adjusted_predictions[name] = np.expm1(log_predictions[name])\n",
    "        if labeled:\n",
    "        #  Computing RMSE if actual data is available\n",
    "            RMSEs[name] = np.sqrt(mean_squared_error(adjusted_predictions[name], actuals))\n",
    "\n",
    "    out = np.round(np.array(pd.DataFrame(adjusted_predictions)),2).tolist()\n",
    "    print(out)\n",
    "    print(type(out))\n",
    "    yield out"
   ]
  },
  {
   "cell_type": "code",
   "execution_count": 876,
   "metadata": {},
   "outputs": [],
   "source": [
    "# Let us now deploy the model to FastScore to validate it works within the Engine\n",
    "from fastscoredeploy.suite import Connect\n",
    "from fastscore.attachment import Attachment\n",
    "\n",
    "#connect = Connect(\"https://ec2-18-222-3-229.us-east-2.compute.amazonaws.com:8000\")\n",
    "connect = Connect(\"https://18.223.205.88:8000\")\n",
    "\n",
    "# Then we specify the model-manage to add the model assets to:\n",
    "model_manage = connect.lookup('model-manage')\n",
    "\n",
    "# And finally we specify the Engine we will deploy to\n",
    "connect.prefer('engine','engine-1')\n",
    "eng = connect.lookup('engine')"
   ]
  },
  {
   "cell_type": "code",
   "execution_count": 877,
   "metadata": {},
   "outputs": [
    {
     "data": {
      "text/plain": [
       "True"
      ]
     },
     "execution_count": 877,
     "metadata": {},
     "output_type": "execute_result"
    }
   ],
   "source": [
    "# Update model in model_manage\n",
    "house_prices_champion_challenger_callback.update(model_manage = model_manage)"
   ]
  },
  {
   "cell_type": "code",
   "execution_count": 878,
   "metadata": {
    "scrolled": true
   },
   "outputs": [
    {
     "name": "stdout",
     "output_type": "stream",
     "text": [
      "\n",
      "  Models in Model Manage:  ['house_prices_champion_challenger_callback']\n",
      "\n",
      "Schemata in Model Manage:  ['array_doubles', 'house_prices_labeled_in', 'three_rmses', 'two_rmses']\n"
     ]
    }
   ],
   "source": [
    "print(\"\\n  Models in Model Manage: \",model_manage.models.names())\n",
    "print(\"\\nSchemata in Model Manage: \",  model_manage.schemata.names())"
   ]
  },
  {
   "cell_type": "code",
   "execution_count": 879,
   "metadata": {},
   "outputs": [],
   "source": [
    "att = Attachment('house_prices_artifacts.tar.gz', datafile='house_prices_artifacts.tar.gz')\n",
    "att.upload(house_prices_champion_challenger_callback)"
   ]
  },
  {
   "cell_type": "code",
   "execution_count": 880,
   "metadata": {},
   "outputs": [
    {
     "data": {
      "application/vnd.jupyter.widget-view+json": {
       "model_id": "e83d43c7764443d1aff7c4eb238bca12",
       "version_major": 2,
       "version_minor": 0
      },
      "text/plain": [
       "IntProgress(value=0, max=8)"
      ]
     },
     "metadata": {},
     "output_type": "display_data"
    }
   ],
   "source": [
    "# Now we deploy to the engine. Start by resetting the engine in case it had previously errored.\n",
    "eng.reset()\n",
    "# Deploy! If there are errors, view the container logs for details\n",
    "house_prices_champion_challenger_callback.deploy(eng)"
   ]
  },
  {
   "cell_type": "code",
   "execution_count": 881,
   "metadata": {
    "scrolled": false
   },
   "outputs": [
    {
     "data": {
      "text/plain": [
       "'RUNNING'"
      ]
     },
     "execution_count": 881,
     "metadata": {},
     "output_type": "execute_result"
    }
   ],
   "source": [
    "eng.state"
   ]
  },
  {
   "cell_type": "code",
   "execution_count": 867,
   "metadata": {},
   "outputs": [
    {
     "name": "stdout",
     "output_type": "stream",
     "text": [
      "{'LotFrontage': 70.0, 'LotArea': 11200, 'Alley': 'Grvl', 'LandContour': 'Lvl', 'BldgType': '1Fam', 'OverallQual': 5, 'OverallCond': 5, 'YearBuilt': 1965, 'YearRemodAdd': 1965, 'MasVnrArea': 0, 'BsmtQual': 'TA', 'BsmtExposure': 'No', 'BsmtFinType1': 'Rec', 'BsmtFinSF1': 906, 'BsmtFinSF2': 0, 'BsmtUnfSF': 134, 'TotalBsmtSF': 1040, 'CentralAir': 'Y', 'firstFlrSF': 1040, 'secondFlrSF': 0, 'GrLivArea': 1040, 'BsmtFullBath': 1, 'BsmtHalfBath': 0, 'FullBath': 1, 'HalfBath': 0, 'BedroomAbvGr': 3, 'KitchenAbvGr': 1, 'KitchenQual': 'TA', 'TotRmsAbvGrd': 5, 'Fireplaces': 0, 'FireplaceQu': 'Ex', 'GarageYrBlt': 1965, 'GarageFinish': 'Unf', 'GarageCars': 1, 'GarageArea': 384, 'PavedDrive': 'Y', 'WoodDeckSF': 0, 'OpenPorchSF': 0, 'EnclosedPorch': 0, 'ScreenPorch': 0, 'MiscVal': 0, 'MoSold': 2, 'YrSold': 2008, 'SalePrice': 129500, 'TotalSF': 2080, 'Total_porch_sf': 0, 'Total_Bathrooms': 2.0, 'has_pool': 0, 'has_garage': 1, 'has_bsmt': 1, 'has_fireplace': 0, 'Id': 11}\n"
     ]
    }
   ],
   "source": [
    "print(sample)"
   ]
  },
  {
   "cell_type": "code",
   "execution_count": 868,
   "metadata": {},
   "outputs": [],
   "source": [
    "X = eng.score([dict(sample), dict(sample)], encode=True)"
   ]
  },
  {
   "cell_type": "code",
   "execution_count": 869,
   "metadata": {},
   "outputs": [
    {
     "data": {
      "text/plain": [
       "[[[118144.01, 124622.56, 96483.77]], [[118144.01, 124622.56, 96483.77]]]"
      ]
     },
     "execution_count": 869,
     "metadata": {},
     "output_type": "execute_result"
    }
   ],
   "source": [
    "X"
   ]
  },
  {
   "cell_type": "code",
   "execution_count": null,
   "metadata": {},
   "outputs": [],
   "source": []
  }
 ],
 "metadata": {
  "kernelspec": {
   "display_name": "Python 3",
   "language": "python",
   "name": "python3"
  },
  "language_info": {
   "codemirror_mode": {
    "name": "ipython",
    "version": 3
   },
   "file_extension": ".py",
   "mimetype": "text/x-python",
   "name": "python",
   "nbconvert_exporter": "python",
   "pygments_lexer": "ipython3",
   "version": "3.7.3"
  }
 },
 "nbformat": 4,
 "nbformat_minor": 2
}
