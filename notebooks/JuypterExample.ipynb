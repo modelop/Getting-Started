{
 "cells": [
  {
   "cell_type": "markdown",
   "metadata": {},
   "source": [
    "This template shows how to set up a model for deployment to FastScore. The integration with Jupyter is one of several ways to deploy to FS but one for the most familiar for Data Scientists."
   ]
  },
  {
   "cell_type": "markdown",
   "metadata": {},
   "source": [
    "We'll start with a familiar workflow: We'll import the libraries we intend to use for the model, read in the data, transform the non-numeric features, and train the model."
   ]
  },
  {
   "cell_type": "code",
   "execution_count": 1,
   "metadata": {},
   "outputs": [],
   "source": [
    "import pandas as pd\n",
    "from sklearn.preprocessing import OneHotEncoder\n",
    "from sklearn.model_selection import train_test_split\n",
    "import numpy as np\n",
    "from sklearn.ensemble import RandomForestRegressor"
   ]
  },
  {
   "cell_type": "code",
   "execution_count": 2,
   "metadata": {},
   "outputs": [],
   "source": [
    "df = pd.read_csv('synthetic.csv')"
   ]
  },
  {
   "cell_type": "code",
   "execution_count": 3,
   "metadata": {},
   "outputs": [
    {
     "data": {
      "text/html": [
       "<div>\n",
       "<style scoped>\n",
       "    .dataframe tbody tr th:only-of-type {\n",
       "        vertical-align: middle;\n",
       "    }\n",
       "\n",
       "    .dataframe tbody tr th {\n",
       "        vertical-align: top;\n",
       "    }\n",
       "\n",
       "    .dataframe thead th {\n",
       "        text-align: right;\n",
       "    }\n",
       "</style>\n",
       "<table border=\"1\" class=\"dataframe\">\n",
       "  <thead>\n",
       "    <tr style=\"text-align: right;\">\n",
       "      <th></th>\n",
       "      <th>feat_1</th>\n",
       "      <th>feat_2</th>\n",
       "      <th>id</th>\n",
       "      <th>target</th>\n",
       "      <th>word</th>\n",
       "    </tr>\n",
       "  </thead>\n",
       "  <tbody>\n",
       "    <tr>\n",
       "      <th>0</th>\n",
       "      <td>0.077368</td>\n",
       "      <td>-0.574927</td>\n",
       "      <td>824</td>\n",
       "      <td>1.012205</td>\n",
       "      <td>bar</td>\n",
       "    </tr>\n",
       "    <tr>\n",
       "      <th>1</th>\n",
       "      <td>-0.301250</td>\n",
       "      <td>-0.101516</td>\n",
       "      <td>815</td>\n",
       "      <td>0.069122</td>\n",
       "      <td>bar</td>\n",
       "    </tr>\n",
       "    <tr>\n",
       "      <th>2</th>\n",
       "      <td>-6.202221</td>\n",
       "      <td>1.639673</td>\n",
       "      <td>5921</td>\n",
       "      <td>-10.827503</td>\n",
       "      <td>baz</td>\n",
       "    </tr>\n",
       "    <tr>\n",
       "      <th>3</th>\n",
       "      <td>-0.265197</td>\n",
       "      <td>-2.459763</td>\n",
       "      <td>5730</td>\n",
       "      <td>-4.570818</td>\n",
       "      <td>foo</td>\n",
       "    </tr>\n",
       "    <tr>\n",
       "      <th>4</th>\n",
       "      <td>-2.867035</td>\n",
       "      <td>-2.377990</td>\n",
       "      <td>4855</td>\n",
       "      <td>-2.559931</td>\n",
       "      <td>qux</td>\n",
       "    </tr>\n",
       "  </tbody>\n",
       "</table>\n",
       "</div>"
      ],
      "text/plain": [
       "     feat_1    feat_2    id     target word\n",
       "0  0.077368 -0.574927   824   1.012205  bar\n",
       "1 -0.301250 -0.101516   815   0.069122  bar\n",
       "2 -6.202221  1.639673  5921 -10.827503  baz\n",
       "3 -0.265197 -2.459763  5730  -4.570818  foo\n",
       "4 -2.867035 -2.377990  4855  -2.559931  qux"
      ]
     },
     "execution_count": 3,
     "metadata": {},
     "output_type": "execute_result"
    }
   ],
   "source": [
    "df.head()"
   ]
  },
  {
   "cell_type": "code",
   "execution_count": 4,
   "metadata": {},
   "outputs": [
    {
     "name": "stderr",
     "output_type": "stream",
     "text": [
      "/anaconda3/lib/python3.7/site-packages/sklearn/model_selection/_split.py:2179: FutureWarning: From version 0.21, test_size will always complement train_size unless both are specified.\n",
      "  FutureWarning)\n"
     ]
    }
   ],
   "source": [
    "train, test = train_test_split(df, train_size = 0.8)"
   ]
  },
  {
   "cell_type": "code",
   "execution_count": 5,
   "metadata": {},
   "outputs": [
    {
     "data": {
      "text/plain": [
       "(400, 5)"
      ]
     },
     "execution_count": 5,
     "metadata": {},
     "output_type": "execute_result"
    }
   ],
   "source": [
    "train.shape"
   ]
  },
  {
   "cell_type": "code",
   "execution_count": 6,
   "metadata": {},
   "outputs": [],
   "source": [
    "enc = OneHotEncoder()"
   ]
  },
  {
   "cell_type": "code",
   "execution_count": 7,
   "metadata": {},
   "outputs": [
    {
     "data": {
      "text/plain": [
       "OneHotEncoder(categorical_features=None, categories=None,\n",
       "       dtype=<class 'numpy.float64'>, handle_unknown='error',\n",
       "       n_values=None, sparse=True)"
      ]
     },
     "execution_count": 7,
     "metadata": {},
     "output_type": "execute_result"
    }
   ],
   "source": [
    "enc.fit(train.word.values.reshape(-1,1))"
   ]
  },
  {
   "cell_type": "code",
   "execution_count": 8,
   "metadata": {},
   "outputs": [],
   "source": [
    "array = enc.transform(train.word.values.reshape(-1,1)).toarray()\n",
    "\n",
    "columns = enc.get_feature_names().tolist()\n",
    "\n",
    "index = train.index"
   ]
  },
  {
   "cell_type": "code",
   "execution_count": 9,
   "metadata": {},
   "outputs": [],
   "source": [
    "one_hot = pd.DataFrame(array, columns = columns, index=index)"
   ]
  },
  {
   "cell_type": "code",
   "execution_count": 10,
   "metadata": {},
   "outputs": [],
   "source": [
    "train = pd.concat([train,one_hot], axis=1)"
   ]
  },
  {
   "cell_type": "code",
   "execution_count": 11,
   "metadata": {},
   "outputs": [
    {
     "data": {
      "text/html": [
       "<div>\n",
       "<style scoped>\n",
       "    .dataframe tbody tr th:only-of-type {\n",
       "        vertical-align: middle;\n",
       "    }\n",
       "\n",
       "    .dataframe tbody tr th {\n",
       "        vertical-align: top;\n",
       "    }\n",
       "\n",
       "    .dataframe thead th {\n",
       "        text-align: right;\n",
       "    }\n",
       "</style>\n",
       "<table border=\"1\" class=\"dataframe\">\n",
       "  <thead>\n",
       "    <tr style=\"text-align: right;\">\n",
       "      <th></th>\n",
       "      <th>feat_1</th>\n",
       "      <th>feat_2</th>\n",
       "      <th>id</th>\n",
       "      <th>target</th>\n",
       "      <th>word</th>\n",
       "      <th>x0_bar</th>\n",
       "      <th>x0_baz</th>\n",
       "      <th>x0_foo</th>\n",
       "      <th>x0_qux</th>\n",
       "    </tr>\n",
       "  </thead>\n",
       "  <tbody>\n",
       "    <tr>\n",
       "      <th>342</th>\n",
       "      <td>-2.214575</td>\n",
       "      <td>-1.517237</td>\n",
       "      <td>3606</td>\n",
       "      <td>-0.868261</td>\n",
       "      <td>qux</td>\n",
       "      <td>0.0</td>\n",
       "      <td>0.0</td>\n",
       "      <td>0.0</td>\n",
       "      <td>1.0</td>\n",
       "    </tr>\n",
       "    <tr>\n",
       "      <th>62</th>\n",
       "      <td>2.832655</td>\n",
       "      <td>-1.647812</td>\n",
       "      <td>658</td>\n",
       "      <td>-12.228713</td>\n",
       "      <td>bar</td>\n",
       "      <td>1.0</td>\n",
       "      <td>0.0</td>\n",
       "      <td>0.0</td>\n",
       "      <td>0.0</td>\n",
       "    </tr>\n",
       "    <tr>\n",
       "      <th>312</th>\n",
       "      <td>1.770694</td>\n",
       "      <td>-2.615849</td>\n",
       "      <td>4825</td>\n",
       "      <td>-10.467061</td>\n",
       "      <td>bar</td>\n",
       "      <td>1.0</td>\n",
       "      <td>0.0</td>\n",
       "      <td>0.0</td>\n",
       "      <td>0.0</td>\n",
       "    </tr>\n",
       "    <tr>\n",
       "      <th>169</th>\n",
       "      <td>0.763994</td>\n",
       "      <td>4.168449</td>\n",
       "      <td>2213</td>\n",
       "      <td>-7.318302</td>\n",
       "      <td>baz</td>\n",
       "      <td>0.0</td>\n",
       "      <td>1.0</td>\n",
       "      <td>0.0</td>\n",
       "      <td>0.0</td>\n",
       "    </tr>\n",
       "    <tr>\n",
       "      <th>393</th>\n",
       "      <td>2.746946</td>\n",
       "      <td>-2.328621</td>\n",
       "      <td>2848</td>\n",
       "      <td>3.836177</td>\n",
       "      <td>foo</td>\n",
       "      <td>0.0</td>\n",
       "      <td>0.0</td>\n",
       "      <td>1.0</td>\n",
       "      <td>0.0</td>\n",
       "    </tr>\n",
       "  </tbody>\n",
       "</table>\n",
       "</div>"
      ],
      "text/plain": [
       "       feat_1    feat_2    id     target word  x0_bar  x0_baz  x0_foo  x0_qux\n",
       "342 -2.214575 -1.517237  3606  -0.868261  qux     0.0     0.0     0.0     1.0\n",
       "62   2.832655 -1.647812   658 -12.228713  bar     1.0     0.0     0.0     0.0\n",
       "312  1.770694 -2.615849  4825 -10.467061  bar     1.0     0.0     0.0     0.0\n",
       "169  0.763994  4.168449  2213  -7.318302  baz     0.0     1.0     0.0     0.0\n",
       "393  2.746946 -2.328621  2848   3.836177  foo     0.0     0.0     1.0     0.0"
      ]
     },
     "execution_count": 11,
     "metadata": {},
     "output_type": "execute_result"
    }
   ],
   "source": [
    "train.head()"
   ]
  },
  {
   "cell_type": "code",
   "execution_count": 12,
   "metadata": {},
   "outputs": [],
   "source": [
    "model = RandomForestRegressor()"
   ]
  },
  {
   "cell_type": "code",
   "execution_count": 13,
   "metadata": {},
   "outputs": [
    {
     "name": "stderr",
     "output_type": "stream",
     "text": [
      "/anaconda3/lib/python3.7/site-packages/sklearn/ensemble/forest.py:246: FutureWarning: The default value of n_estimators will change from 10 in version 0.20 to 100 in 0.22.\n",
      "  \"10 in version 0.20 to 100 in 0.22.\", FutureWarning)\n"
     ]
    },
    {
     "data": {
      "text/plain": [
       "RandomForestRegressor(bootstrap=True, criterion='mse', max_depth=None,\n",
       "           max_features='auto', max_leaf_nodes=None,\n",
       "           min_impurity_decrease=0.0, min_impurity_split=None,\n",
       "           min_samples_leaf=1, min_samples_split=2,\n",
       "           min_weight_fraction_leaf=0.0, n_estimators=10, n_jobs=None,\n",
       "           oob_score=False, random_state=None, verbose=0, warm_start=False)"
      ]
     },
     "execution_count": 13,
     "metadata": {},
     "output_type": "execute_result"
    }
   ],
   "source": [
    "model.fit(train.drop(['id', 'target', 'word'], axis=1).values, train.target.values)"
   ]
  },
  {
   "cell_type": "markdown",
   "metadata": {},
   "source": [
    "Now let's score one sample from the test dataframe. This will help us in constructing our action function later."
   ]
  },
  {
   "cell_type": "code",
   "execution_count": 14,
   "metadata": {},
   "outputs": [],
   "source": [
    "one_hot = enc.transform(np.array(test.word.iloc[0]).reshape(-1,1)).toarray()"
   ]
  },
  {
   "cell_type": "code",
   "execution_count": 15,
   "metadata": {},
   "outputs": [
    {
     "data": {
      "text/plain": [
       "(1, 4)"
      ]
     },
     "execution_count": 15,
     "metadata": {},
     "output_type": "execute_result"
    }
   ],
   "source": [
    "one_hot.shape"
   ]
  },
  {
   "cell_type": "code",
   "execution_count": 16,
   "metadata": {},
   "outputs": [],
   "source": [
    "values = test.loc[:,['feat_1', 'feat_2']].iloc[0,:].values.reshape(1,-1)"
   ]
  },
  {
   "cell_type": "code",
   "execution_count": 17,
   "metadata": {},
   "outputs": [
    {
     "data": {
      "text/plain": [
       "(1, 2)"
      ]
     },
     "execution_count": 17,
     "metadata": {},
     "output_type": "execute_result"
    }
   ],
   "source": [
    "values.shape"
   ]
  },
  {
   "cell_type": "code",
   "execution_count": 18,
   "metadata": {},
   "outputs": [],
   "source": [
    "single_test = np.concatenate([values, one_hot],axis=1)"
   ]
  },
  {
   "cell_type": "code",
   "execution_count": 19,
   "metadata": {},
   "outputs": [
    {
     "data": {
      "text/plain": [
       "array([[ 0.55500888, -2.83453849,  1.        ,  0.        ,  0.        ,\n",
       "         0.        ]])"
      ]
     },
     "execution_count": 19,
     "metadata": {},
     "output_type": "execute_result"
    }
   ],
   "source": [
    "single_test"
   ]
  },
  {
   "cell_type": "code",
   "execution_count": 20,
   "metadata": {},
   "outputs": [
    {
     "data": {
      "text/plain": [
       "-5.408011562418087"
      ]
     },
     "execution_count": 20,
     "metadata": {},
     "output_type": "execute_result"
    }
   ],
   "source": [
    "model.predict(single_test)[0]"
   ]
  },
  {
   "cell_type": "markdown",
   "metadata": {},
   "source": [
    "Now that the model is trained, we must serialize the fit model and fit one-hot encoder for use inside the FastScore engine."
   ]
  },
  {
   "cell_type": "code",
   "execution_count": 21,
   "metadata": {},
   "outputs": [],
   "source": [
    "import pickle\n",
    "pickle.dump(model, open('example_model.pkl', 'wb'))\n",
    "pickle.dump(enc, open('onehotenc.pkl', 'wb'))"
   ]
  },
  {
   "cell_type": "code",
   "execution_count": 24,
   "metadata": {},
   "outputs": [
    {
     "name": "stdout",
     "output_type": "stream",
     "text": [
      "Requirement already satisfied: fastscore in /anaconda3/lib/python3.7/site-packages (1.9.1)\n",
      "Requirement already satisfied: iso8601>=0.1.11 in /anaconda3/lib/python3.7/site-packages (from fastscore) (0.1.12)\n",
      "Requirement already satisfied: websocket-client>=0.37.0 in /anaconda3/lib/python3.7/site-packages (from fastscore) (0.56.0)\n",
      "Requirement already satisfied: PyYAML>=3.11 in /Users/brendan/.local/lib/python3.7/site-packages (from fastscore) (3.13)\n",
      "Requirement already satisfied: urllib3>=1.20 in /anaconda3/lib/python3.7/site-packages (from fastscore) (1.24.1)\n",
      "Requirement already satisfied: six in /anaconda3/lib/python3.7/site-packages (from fastscore) (1.12.0)\n",
      "Requirement already satisfied: certifi>=2017.4.17 in /anaconda3/lib/python3.7/site-packages (from fastscore) (2019.3.9)\n",
      "Requirement already satisfied: requests>=2.11.1 in /anaconda3/lib/python3.7/site-packages (from fastscore) (2.21.0)\n",
      "Requirement already satisfied: tabulate>=0.7.5 in /anaconda3/lib/python3.7/site-packages (from fastscore) (0.8.3)\n",
      "Requirement already satisfied: chardet<3.1.0,>=3.0.2 in /anaconda3/lib/python3.7/site-packages (from requests>=2.11.1->fastscore) (3.0.4)\n",
      "Requirement already satisfied: idna<2.9,>=2.5 in /anaconda3/lib/python3.7/site-packages (from requests>=2.11.1->fastscore) (2.8)\n"
     ]
    }
   ],
   "source": [
    "!pip install fastscore"
   ]
  },
  {
   "cell_type": "code",
   "execution_count": 25,
   "metadata": {},
   "outputs": [
    {
     "ename": "ModuleNotFoundError",
     "evalue": "No module named 'fastscore.io'",
     "output_type": "error",
     "traceback": [
      "\u001b[0;31m---------------------------------------------------------------------------\u001b[0m",
      "\u001b[0;31mModuleNotFoundError\u001b[0m                       Traceback (most recent call last)",
      "\u001b[0;32m<ipython-input-25-ba595078f7ba>\u001b[0m in \u001b[0;36m<module>\u001b[0;34m\u001b[0m\n\u001b[1;32m      1\u001b[0m \u001b[0;31m#To start, we import the fastscore deploy library, this will leverage the FastScore API for deploying assets and models\u001b[0m\u001b[0;34m\u001b[0m\u001b[0;34m\u001b[0m\u001b[0;34m\u001b[0m\u001b[0m\n\u001b[0;32m----> 2\u001b[0;31m \u001b[0;32mfrom\u001b[0m \u001b[0mfastscoredeploy\u001b[0m \u001b[0;32mimport\u001b[0m \u001b[0mipmagic\u001b[0m\u001b[0;34m\u001b[0m\u001b[0;34m\u001b[0m\u001b[0m\n\u001b[0m",
      "\u001b[0;32m/anaconda3/lib/python3.7/site-packages/fastscoredeploy/__init__.py\u001b[0m in \u001b[0;36m<module>\u001b[0;34m\u001b[0m\n\u001b[0;32m----> 1\u001b[0;31m \u001b[0;32mfrom\u001b[0m \u001b[0;34m.\u001b[0m\u001b[0mModel\u001b[0m \u001b[0;32mimport\u001b[0m \u001b[0mModel\u001b[0m\u001b[0;34m\u001b[0m\u001b[0;34m\u001b[0m\u001b[0m\n\u001b[0m\u001b[1;32m      2\u001b[0m \u001b[0;31m# from .Schema import Schema\u001b[0m\u001b[0;34m\u001b[0m\u001b[0;34m\u001b[0m\u001b[0;34m\u001b[0m\u001b[0m\n\u001b[1;32m      3\u001b[0m \u001b[0;31m# from .Stream import Stream\u001b[0m\u001b[0;34m\u001b[0m\u001b[0;34m\u001b[0m\u001b[0;34m\u001b[0m\u001b[0m\n",
      "\u001b[0;32m/anaconda3/lib/python3.7/site-packages/fastscoredeploy/Model.py\u001b[0m in \u001b[0;36m<module>\u001b[0;34m\u001b[0m\n\u001b[1;32m      5\u001b[0m \u001b[0;32mfrom\u001b[0m \u001b[0mfastscore\u001b[0m \u001b[0;32mimport\u001b[0m \u001b[0mStream\u001b[0m\u001b[0;34m\u001b[0m\u001b[0;34m\u001b[0m\u001b[0m\n\u001b[1;32m      6\u001b[0m \u001b[0;34m\u001b[0m\u001b[0m\n\u001b[0;32m----> 7\u001b[0;31m \u001b[0;32mfrom\u001b[0m \u001b[0mfastscore\u001b[0m\u001b[0;34m.\u001b[0m\u001b[0mio\u001b[0m \u001b[0;32mimport\u001b[0m \u001b[0mSlot\u001b[0m\u001b[0;34m\u001b[0m\u001b[0;34m\u001b[0m\u001b[0m\n\u001b[0m\u001b[1;32m      8\u001b[0m \u001b[0;34m\u001b[0m\u001b[0m\n\u001b[1;32m      9\u001b[0m \u001b[0;32mfrom\u001b[0m \u001b[0;34m.\u001b[0m\u001b[0mcodec\u001b[0m \u001b[0;32mimport\u001b[0m \u001b[0mdatatype\u001b[0m\u001b[0;34m\u001b[0m\u001b[0;34m\u001b[0m\u001b[0m\n",
      "\u001b[0;31mModuleNotFoundError\u001b[0m: No module named 'fastscore.io'"
     ]
    }
   ],
   "source": [
    "#To start, we import the fastscore deploy library, this will leverage the FastScore API for deploying assets and models  \n",
    "from fastscoredeploy import ipmagic"
   ]
  },
  {
   "cell_type": "markdown",
   "metadata": {},
   "source": [
    "Schemas are going to define the input and output contract of the model execution code with the data transport. We will add one each for input and output. The schemas leverage the Avro system: https://avro.apache.org/docs/1.8.1/spec.html. The cell magic command %%schema (name) at the top defines the name of the schema. The name in this command must match the name of the corresponding schema name in the model."
   ]
  },
  {
   "cell_type": "code",
   "execution_count": null,
   "metadata": {},
   "outputs": [],
   "source": [
    "%%schema example_input\n",
    "{\n",
    "    \"type\":\"record\",\n",
    "    \"name\":\"example_input\",\n",
    "    \"fields\":[\n",
    "        {\"type\":\"double\", \"name\":\"feat_1\"},\n",
    "        {\"type\":\"double\", \"name\":\"feat_2\"},\n",
    "        {\"type\":\"int\", \"name\":\"id\"},\n",
    "        {\"type\":\"string\", \"name\":\"word\"}\n",
    "    ]\n",
    "}"
   ]
  },
  {
   "cell_type": "code",
   "execution_count": null,
   "metadata": {
    "scrolled": true
   },
   "outputs": [],
   "source": [
    "%%schema tagged_double\n",
    "{\n",
    "    \"type\":\"record\",\n",
    "    \"name\":\"tagged_double\",\n",
    "    \"fields\":[\n",
    "        {\"type\":\"int\", \"name\":\"id\"},\n",
    "        {\"type\":\"double\", \"name\":\"pred\"}\n",
    "    ]\n",
    "}"
   ]
  },
  {
   "cell_type": "markdown",
   "metadata": {},
   "source": [
    "Schema can also be inferred from sample data using Schema.infer, but the samples must be given as dictionaries."
   ]
  },
  {
   "cell_type": "code",
   "execution_count": null,
   "metadata": {},
   "outputs": [],
   "source": [
    "samples = train.drop(['id', 'word', 'target'], axis=1).to_dict(orient='records')[0:20]"
   ]
  },
  {
   "cell_type": "markdown",
   "metadata": {},
   "source": [
    "Next we need to provide the model execution code. This code will be deployed into the engine and used to score the mode. The cell magic command %%model  at the top defines the name of the model (rfr_model). The following smart comments map the schemas to the input and outputs. Again, the names of the schemas in these smart comments _must_ match the names of the schemas in the cell magic commands above (the name after %%schema). Next, use import statements to pull in the dependencies. Since the engine is containerized, you must include these import statements again even though you included them at the beginning of the notebook. These will need to be added to the Fastscore Engine's Dockerfile and import policy if they are not included in the default engine. We have two functions that will be called to execute code. The *begin* function is run when the model is deployed; the *action* function is called when scored (data comes to the input stream). The *begin* method typically sets the model coefficents/ object to a variable to be passed to used in the action function. The *action* function scores the model and yields the output to the output stream."
   ]
  },
  {
   "cell_type": "code",
   "execution_count": null,
   "metadata": {},
   "outputs": [],
   "source": [
    "%%model rfr_model\n",
    "\n",
    "# fastscore.schema.0: example_input\n",
    "# fastscore.schema.1: tagged_double\n",
    "\n",
    "import numpy as np\n",
    "import pickle\n",
    "from sklearn.ensemble import RandomForestRegressor\n",
    "from sklearn.preprocessing import OneHotEncoder\n",
    "\n",
    "\n",
    "\n",
    "\n",
    "def begin():\n",
    "    #It's necessary to set these variables as global so they will be scoped to use in the \"action\" function.\n",
    "    global enc\n",
    "    global rfr\n",
    "    enc = pickle.load(open('onehotenc.pkl', 'rb'))\n",
    "    rfr = pickle.load(open('example_model.pkl', 'rb'))\n",
    "\n",
    "def action(x):\n",
    "    #In this example, FastScore will parse x as a Python dictionary since x is a single record.\n",
    "    ID = x['id']\n",
    "    word = x['word']\n",
    "    one_hot = enc.transform(np.array(word).reshape(-1,1)).toarray()[0].reshape(1,-1)\n",
    "    feats = np.array([x['feat_1'], x['feat_2']]).reshape(1,-1)\n",
    "    #print(one_hot.shape)\n",
    "    #print(feats.shape)\n",
    "    sample = np.concatenate([feats,one_hot], axis=1)\n",
    "    pred = rfr.predict(sample)[0]\n",
    "    yield dict(id=ID, pred=pred)\n"
   ]
  },
  {
   "cell_type": "markdown",
   "metadata": {},
   "source": [
    "Now we can test that our model works before loading it into a FastScore engine by utilizing FastScore Deploy's score function. Note again that we're inputting dictionaries into our model. FastScore's default data encoding is JSON, though other encodings are supported. The print statements that have been commented out will work in the score function below. This can be an important debugging tool."
   ]
  },
  {
   "cell_type": "code",
   "execution_count": null,
   "metadata": {},
   "outputs": [],
   "source": [
    "rfr_model.score(test.drop(['target'], axis=1).to_dict(orient='records')[0:5])"
   ]
  },
  {
   "cell_type": "markdown",
   "metadata": {},
   "source": [
    "The input $x$ to the action function will be a JSON object and typically parsed in Python as a dictionary. Another common pattern to use is to score multiple records at once. To use recordsets, use the smart-comment `#fastscore.recordset.<slot_no>` where `<slot_no>` is the slot number you want to use. The schema will be checked against each individual record in the set, but $x$ will be parsed as a Pandas DataFrame by default. "
   ]
  },
  {
   "cell_type": "markdown",
   "metadata": {},
   "source": [
    "Now we're ready to deploy our FastScore conformed model to a FastScore engine. "
   ]
  },
  {
   "cell_type": "code",
   "execution_count": null,
   "metadata": {},
   "outputs": [],
   "source": [
    "#Next we can deploy the model to FastScore to validate it works within the Engine using basicauth\n",
    "from fastscoredeploy.suite import Connect\n",
    "from base64 import b64encode\n",
    "from six.moves.urllib.parse import quote\n",
    "\n",
    "def encode(username, password):\n",
    "   if ':' in username:\n",
    "       raise FastScoreError('invalid username')\n",
    "   username_password = '%s:%s' % (quote(username), quote(password))\n",
    "   return 'Basic ' + b64encode(username_password.encode()).decode()\n",
    "\n",
    "secret = encode(\"fastscore\",\"fastscore\")\n",
    "c = Connect('https://a358847f378e211e9ae160a680e94179-1690110141.us-east-1.elb.amazonaws.com/dashboard')\n",
    "c.set_basic_auth_secret(secret)\n",
    "\n",
    "#Then we specify the model-manage to add the model assets to\n",
    "mm = c.lookup('model-manage')\n",
    "#And then the Engine we will deploy to\n",
    "eng = c.get('engine-3')"
   ]
  },
  {
   "cell_type": "code",
   "execution_count": null,
   "metadata": {},
   "outputs": [],
   "source": [
    "#Now we add/ update the model to Model Manage to make it avaiable for deployment\n",
    "#Returns true for updated, false when the model is the same within Model Manage\n",
    "rfr_model.update(model_manage=mm)"
   ]
  },
  {
   "cell_type": "markdown",
   "metadata": {},
   "source": [
    "The pickle files containing the trained model and trained one-hot encoder must be given to the FastScore engine as an attachment, since each model can only have one attachment, we must include them in the same tar.gz archive or zip file. Note that tar.gz and zip are the only two file formats supported by FastScore attachments. Also note that anything the model needs to run can be included in an attachment including libraries which you've developed yourself."
   ]
  },
  {
   "cell_type": "code",
   "execution_count": null,
   "metadata": {},
   "outputs": [],
   "source": [
    "!tar cvfz att.tar.gz example_model.pkl onehotenc.pkl"
   ]
  },
  {
   "cell_type": "code",
   "execution_count": null,
   "metadata": {},
   "outputs": [],
   "source": [
    "from fastscore.attachment import Attachment\n",
    "\n",
    "att = Attachment('att.tar.gz', datafile='att.tar.gz')\n",
    "att.upload(rfr_model)"
   ]
  },
  {
   "cell_type": "code",
   "execution_count": null,
   "metadata": {},
   "outputs": [],
   "source": [
    "#Now we deploy to the engine. If there are errors, view the container logs for details\n",
    "rfr_model.deploy(eng)"
   ]
  },
  {
   "cell_type": "code",
   "execution_count": null,
   "metadata": {},
   "outputs": [],
   "source": [
    "#Now we score with our sample data\n",
    "eng.score(test.drop(['target'], axis=1).to_dict(orient='records')[0:5])"
   ]
  },
  {
   "cell_type": "code",
   "execution_count": null,
   "metadata": {},
   "outputs": [],
   "source": [
    "eng.reset()"
   ]
  },
  {
   "cell_type": "markdown",
   "metadata": {},
   "source": [
    "At this point, we have tested the model locally and within the engine. It is ready to pass to model ops for promotion into UAT and futher operationalization"
   ]
  }
 ],
 "metadata": {
  "kernelspec": {
   "display_name": "Python 3",
   "language": "python",
   "name": "python3"
  },
  "language_info": {
   "codemirror_mode": {
    "name": "ipython",
    "version": 3
   },
   "file_extension": ".py",
   "mimetype": "text/x-python",
   "name": "python",
   "nbconvert_exporter": "python",
   "pygments_lexer": "ipython3",
   "version": "3.7.3"
  }
 },
 "nbformat": 4,
 "nbformat_minor": 2
}
